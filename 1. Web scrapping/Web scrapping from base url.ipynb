{
 "cells": [
  {
   "cell_type": "markdown",
   "id": "d9255830",
   "metadata": {},
   "source": [
    "base_url = https://www.flipkart.com/realme-c51-mint-green-64-gb/p/itm0e93bcb87927f?pid=MOBGSQGGC7NY4PXC&lid=LSTMOBGSQGGC7NY4PXCO7WY2Y&marketplace=FLIPKART&store=tyy%2F4io&srno=b_1_10&otracker=nmenu_sub_Electronics_0_Realme&fm=search-autosuggest&iid=4ec5ac9e-7c8e-4b90-b955-7a8a1776f256.MOBGSQGGC7NY4PXC.SEARCH&ppt=sp&ppn=sp&ssid=6yuijgm3340000001716780625029\n",
    "review_page url = https://www.flipkart.com/realme-c51-mint-green-64-gb/product-reviews/itm0e93bcb87927f?pid=MOBGSQGGC7NY4PXC&lid=LSTMOBGSQGGC7NY4PXCO7WY2Y&marketplace=FLIPKART"
   ]
  },
  {
   "cell_type": "markdown",
   "id": "bd2eee46",
   "metadata": {},
   "source": [
    "base_url = https://www.flipkart.com/ifb-7-kg-5-star-2x-power-steam-hard-water-wash-fully-automatic-front-load-washing-machine-in-built-heater-white/p/itmae1b351a1f461?pid=WMNGHHY8GKAFTKKZ&lid=LSTWMNGHHY8GKAFTKKZC69O11&marketplace=FLIPKART&store=j9e%2Fabm%2F8qx&srno=b_1_4&otracker=nmenu_sub_TVs%20%26%20Appliances_0_Fully%20Automatic%20Front%20Load&fm=search-autosuggest&iid=6ef4759f-3fa2-4151-89fa-42a607f02b81.WMNGHHY8GKAFTKKZ.SEARCH&ppt=clp&ppn=television-store&ssid=ze9v01pho00000001716922768817\n",
    "review_page url = https://www.flipkart.com/ifb-7-kg-5-star-2x-power-steam-hard-water-wash-fully-automatic-front-load-washing-machine-in-built-heater-white/product-reviews/itmae1b351a1f461?pid=WMNGHHY8GKAFTKKZ&lid=LSTWMNGHHY8GKAFTKKZC69O11&marketplace=FLIPKART"
   ]
  },
  {
   "cell_type": "markdown",
   "id": "df839e01",
   "metadata": {},
   "source": [
    "Getting product page url from base url"
   ]
  },
  {
   "cell_type": "code",
   "execution_count": 13,
   "id": "5e259ffc",
   "metadata": {},
   "outputs": [
    {
     "name": "stdout",
     "output_type": "stream",
     "text": [
      "https://www.flipkart.com/realme-c51-mint-green-64-gb/product-reviews/itm0e93bcb87927f?pid=MOBGSQGGC7NY4PXC&lid=LSTMOBGSQGGC7NY4PXCO7WY2Y&marketplace=FLIPKART\n",
      "https://www.flipkart.com/ifb-7-kg-5-star-2x-power-steam-hard-water-wash-fully-automatic-front-load-washing-machine-in-built-heater-white/product-reviews/itmae1b351a1f461?pid=WMNGHHY8GKAFTKKZ&lid=LSTWMNGHHY8GKAFTKKZC69O11&marketplace=FLIPKART\n"
     ]
    }
   ],
   "source": [
    "def convert_to_review_url(base_url):\n",
    "    # Split the base URL to get the parts before and after the product identifier\n",
    "    parts = base_url.split('/p/')\n",
    "    \n",
    "    # Ensure the URL is in the expected format\n",
    "    if len(parts) != 2:\n",
    "        raise ValueError(\"URL format is not as expected.\")\n",
    "    \n",
    "    # Construct the review page URL\n",
    "    review_page_url = parts[0] + '/product-reviews/' + parts[1]\n",
    "    \n",
    "    # Remove any parameters after the product ID and keep only the necessary ones\n",
    "    review_page_url = review_page_url.split('?')[0] + '?' + '&'.join([param for param in base_url.split('?')[1].split('&') if param.startswith('pid=') or param.startswith('lid=') or param.startswith('marketplace=')])\n",
    "    \n",
    "    return review_page_url\n",
    "\n",
    "# Example usage\n",
    "base_url_1 = \"https://www.flipkart.com/realme-c51-mint-green-64-gb/p/itm0e93bcb87927f?pid=MOBGSQGGC7NY4PXC&lid=LSTMOBGSQGGC7NY4PXCO7WY2Y&marketplace=FLIPKART&store=tyy%2F4io&srno=b_1_10&otracker=nmenu_sub_Electronics_0_Realme&fm=search-autosuggest&iid=4ec5ac9e-7c8e-4b90-b955-7a8a1776f256.MOBGSQGGC7NY4PXC.SEARCH&ppt=sp&ppn=sp&ssid=6yuijgm3340000001716780625029\"\n",
    "review_url_1 = convert_to_review_url(base_url_1)\n",
    "print(review_url_1)\n",
    "\n",
    "base_url_2 = \"https://www.flipkart.com/ifb-7-kg-5-star-2x-power-steam-hard-water-wash-fully-automatic-front-load-washing-machine-in-built-heater-white/p/itmae1b351a1f461?pid=WMNGHHY8GKAFTKKZ&lid=LSTWMNGHHY8GKAFTKKZC69O11&marketplace=FLIPKART&store=j9e%2Fabm%2F8qx&srno=b_1_4&otracker=nmenu_sub_TVs%20%26%20Appliances_0_Fully%20Automatic%20Front%20Load&fm=search-autosuggest&iid=6ef4759f-3fa2-4151-89fa-42a607f02b81.WMNGHHY8GKAFTKKZ.SEARCH&ppt=clp&ppn=television-store&ssid=ze9v01pho00000001716922768817\"\n",
    "review_url_2 = convert_to_review_url(base_url_2)\n",
    "print(review_url_2)\n"
   ]
  },
  {
   "cell_type": "markdown",
   "id": "8321e4b9",
   "metadata": {},
   "source": [
    "Getting CSV file from base url"
   ]
  },
  {
   "cell_type": "code",
   "execution_count": 14,
   "id": "837ceba9",
   "metadata": {},
   "outputs": [
    {
     "name": "stdout",
     "output_type": "stream",
     "text": [
      "Enter the product URL: https://www.flipkart.com/ifb-7-kg-5-star-2x-power-steam-hard-water-wash-fully-automatic-front-load-washing-machine-in-built-heater-white/p/itmae1b351a1f461?pid=WMNGHHY8GKAFTKKZ&lid=LSTWMNGHHY8GKAFTKKZC69O11&marketplace=FLIPKART&store=j9e%2Fabm%2F8qx&srno=b_1_4&otracker=nmenu_sub_TVs%20%26%20Appliances_0_Fully%20Automatic%20Front%20Load&fm=search-autosuggest&iid=6ef4759f-3fa2-4151-89fa-42a607f02b81.WMNGHHY8GKAFTKKZ.SEARCH&ppt=clp&ppn=television-store&ssid=ze9v01pho00000001716922768817\n"
     ]
    },
    {
     "data": {
      "application/vnd.jupyter.widget-view+json": {
       "model_id": "7b1b967a52f545e986a48e80cac65f6a",
       "version_major": 2,
       "version_minor": 0
      },
      "text/plain": [
       "  0%|          | 0/499 [00:00<?, ?it/s]"
      ]
     },
     "metadata": {},
     "output_type": "display_data"
    }
   ],
   "source": [
    "import requests\n",
    "from bs4 import BeautifulSoup\n",
    "import pandas as pd\n",
    "from tqdm.notebook import tqdm\n",
    "\n",
    "# Function to convert base URL to review page URL\n",
    "def convert_to_review_url(base_url):\n",
    "    # Split the base URL to get the parts before and after the product identifier\n",
    "    parts = base_url.split('/p/')\n",
    "    \n",
    "    # Ensure the URL is in the expected format\n",
    "    if len(parts) != 2:\n",
    "        raise ValueError(\"URL format is not as expected.\")\n",
    "    \n",
    "    # Construct the review page URL\n",
    "    review_page_url = parts[0] + '/product-reviews/' + parts[1]\n",
    "    \n",
    "    # Remove any parameters after the product ID and keep only the necessary ones\n",
    "    review_page_url = review_page_url.split('?')[0] + '?' + '&'.join([param for param in base_url.split('?')[1].split('&') if param.startswith('pid=') or param.startswith('lid=') or param.startswith('marketplace=')])\n",
    "    \n",
    "    return review_page_url\n",
    "\n",
    "# User-Agent and Accept-Language headers\n",
    "headers = {\n",
    "    'User-Agent': 'Mozilla/5.0 (Windows NT 10.0; Win64; x64) AppleWebKit/537.36 (KHTML, like Gecko) Chrome/125.0.0.0 Safari/537.36',\n",
    "    'Accept-Language': 'en-us,en;q=0.5'\n",
    "}\n",
    "\n",
    "customer_names = []\n",
    "review_title = []\n",
    "ratings = []\n",
    "comments = []\n",
    "\n",
    "# Input base URL and convert it to review page URL\n",
    "base_url = input(\"Enter the product URL: \")\n",
    "review_url = convert_to_review_url(base_url)\n",
    "\n",
    "for i in tqdm(range(1, 500)):\n",
    "    # Construct the URL for the current page\n",
    "    current_url = f\"{review_url}&page={i}\"\n",
    "    \n",
    "    # Send a GET request to the page\n",
    "    page = requests.get(current_url, headers=headers)\n",
    "\n",
    "    # Parse the HTML content\n",
    "    soup = BeautifulSoup(page.content, 'html.parser')\n",
    "\n",
    "    # Extract customer names\n",
    "    names = soup.find_all('p', class_='_2NsDsF AwS1CA')\n",
    "    for name in names:\n",
    "        customer_names.append(name.get_text())\n",
    "\n",
    "    # Extract review titles\n",
    "    title = soup.find_all('p', class_='z9E0IG')\n",
    "    for t in title:\n",
    "        review_title.append(t.get_text())\n",
    "\n",
    "    # Extract ratings\n",
    "    rat = soup.find_all('div', class_='XQDdHH Ga3i8K')\n",
    "    for r in rat:\n",
    "        rating = r.get_text()\n",
    "        if rating:\n",
    "            ratings.append(rating)\n",
    "        else:\n",
    "            ratings.append('0')  # Replace null ratings with 0\n",
    "\n",
    "    # Extract comments\n",
    "    cmt = soup.find_all('div', class_='ZmyHeo')\n",
    "    for c in cmt:\n",
    "        comment_text = c.div.div.get_text(strip=True)\n",
    "        comments.append(comment_text)\n",
    "\n",
    "# Ensure all lists have the same length\n",
    "min_length = min(len(customer_names), len(review_title), len(ratings), len(comments))\n",
    "customer_names = customer_names[:min_length]\n",
    "review_title = review_title[:min_length]\n",
    "ratings = ratings[:min_length]\n",
    "comments = comments[:min_length]\n",
    "\n",
    "# Create a DataFrame from the collected data\n",
    "data = {\n",
    "    'Customer Name': customer_names,\n",
    "    'Review Title': review_title,\n",
    "    'Rating': ratings,\n",
    "    'Comment': comments\n",
    "}\n",
    "\n",
    "df = pd.DataFrame(data)\n",
    "\n",
    "# Remove duplicate rows\n",
    "df.drop_duplicates(inplace=True)\n",
    "\n",
    "# Save the DataFrame to a CSV file\n",
    "df.to_csv('product_reviews.csv', index=False)\n",
    "\n"
   ]
  },
  {
   "cell_type": "markdown",
   "id": "8651df44",
   "metadata": {},
   "source": []
  },
  {
   "cell_type": "code",
   "execution_count": null,
   "id": "bab18022",
   "metadata": {},
   "outputs": [],
   "source": []
  }
 ],
 "metadata": {
  "kernelspec": {
   "display_name": "Python 3 (ipykernel)",
   "language": "python",
   "name": "python3"
  },
  "language_info": {
   "codemirror_mode": {
    "name": "ipython",
    "version": 3
   },
   "file_extension": ".py",
   "mimetype": "text/x-python",
   "name": "python",
   "nbconvert_exporter": "python",
   "pygments_lexer": "ipython3",
   "version": "3.6.8"
  }
 },
 "nbformat": 4,
 "nbformat_minor": 5
}
