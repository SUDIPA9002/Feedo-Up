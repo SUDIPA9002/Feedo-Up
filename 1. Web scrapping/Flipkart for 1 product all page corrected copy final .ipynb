{
 "cells": [
  {
   "cell_type": "code",
   "execution_count": 1,
   "id": "32224ebb",
   "metadata": {},
   "outputs": [],
   "source": [
    "import requests\n",
    "from bs4 import BeautifulSoup\n",
    "import pandas as pd"
   ]
  },
  {
   "cell_type": "code",
   "execution_count": 2,
   "id": "57ea7d98",
   "metadata": {},
   "outputs": [],
   "source": [
    "# User-Agent and Accept-Language headers\n",
    "headers = {\n",
    "    'User-Agent': 'Mozilla/5.0 (Windows NT 10.0; Win64; x64) AppleWebKit/537.36 (KHTML, like Gecko) Chrome/119.0.0.0 Safari/537.36',\n",
    "    'Accept-Language': 'en-us,en;q=0.5'\n",
    "}"
   ]
  },
  {
   "cell_type": "code",
   "execution_count": 3,
   "id": "41e6206b",
   "metadata": {},
   "outputs": [],
   "source": [
    "# for i in range(1, 11):\n",
    "#     # Construct the URL for the current page\n",
    "#     url = link = \"https://www.flipkart.com/poco-m6-pro-5g-power-black-128-gb/product-reviews/itmef8fa46f89738?pid=MOBGRNZ3ER4N3K4F&lid=LSTMOBGRNZ3ER4N3K4FIYYGCU&marketplace=FLIPKART&page=\"+str(i)\n",
    "\n",
    "#     # Send a GET request to the page\n",
    "#     page = requests.get(url, headers=headers)\n",
    "\n",
    "#     # Parse the HTML content\n",
    "#     soup = BeautifulSoup(page.content, 'html.parser')"
   ]
  },
  {
   "cell_type": "code",
   "execution_count": 4,
   "id": "2263b7c0",
   "metadata": {},
   "outputs": [],
   "source": [
    "customer_names = []\n",
    "review_title = []\n",
    "ratings = []\n",
    "comments = []\n",
    "\n",
    "for i in range(1, 22):\n",
    "    # Construct the URL for the current page\n",
    "    url = link = \"https://www.flipkart.com/poco-m6-pro-5g-power-black-128-gb/product-reviews/itmef8fa46f89738?pid=MOBGRNZ3ER4N3K4F&lid=LSTMOBGRNZ3ER4N3K4FIYYGCU&marketplace=FLIPKART&page=\"+str(i)\n",
    "\n",
    "    # Send a GET request to the page\n",
    "    page = requests.get(url, headers=headers)\n",
    "\n",
    "    # Parse the HTML content\n",
    "    soup = BeautifulSoup(page.content, 'html.parser')\n",
    "\n",
    "    # Extract customer names\n",
    "    names = soup.find_all('p', class_='_2sc7ZR _2V5EHH')\n",
    "    for name in names:\n",
    "        customer_names.append(name.get_text())\n",
    "\n",
    "    # Extract review titles\n",
    "    title = soup.find_all('p', class_='_2-N8zT')\n",
    "    for t in title:\n",
    "        review_title.append(t.get_text())\n",
    "\n",
    "    # Extract ratings\n",
    "    rat = soup.find_all('div', class_='_3LWZlK _1BLPMq')\n",
    "    for r in rat:\n",
    "        rating = r.get_text()\n",
    "        if rating:\n",
    "            ratings.append(rating)\n",
    "        else:\n",
    "            ratings.append('0')  # Replace null ratings with 0\n",
    "\n",
    "    # Extract comments\n",
    "    cmt = soup.find_all('div', class_='t-ZTKy')\n",
    "    for c in cmt:\n",
    "        comment_text = c.div.div.get_text(strip=True)\n",
    "        comments.append(comment_text)\n",
    "\n",
    "# Ensure all lists have the same length\n",
    "min_length = min(len(customer_names), len(review_title), len(ratings), len(comments))\n",
    "customer_names = customer_names[:min_length]\n",
    "review_title = review_title[:min_length]\n",
    "ratings = ratings[:min_length]\n",
    "comments = comments[:min_length]\n",
    "\n",
    "# Create a DataFrame from the collected data\n",
    "data = {\n",
    "    'Customer Name': customer_names,\n",
    "    'Review Title': review_title,\n",
    "    'Rating': ratings,\n",
    "    'Comment': comments\n",
    "}\n",
    "\n",
    "df = pd.DataFrame(data)\n"
   ]
  },
  {
   "cell_type": "code",
   "execution_count": 5,
   "id": "7d2c58b0",
   "metadata": {},
   "outputs": [
    {
     "name": "stdout",
     "output_type": "stream",
     "text": [
      "110\n",
      "110\n",
      "110\n",
      "110\n"
     ]
    }
   ],
   "source": [
    "print(len(customer_names))\n",
    "print(len(review_title))\n",
    "print(len(ratings))\n",
    "print(len(comments))"
   ]
  },
  {
   "cell_type": "code",
   "execution_count": 6,
   "id": "58f5885c",
   "metadata": {},
   "outputs": [
    {
     "data": {
      "text/plain": [
       "['AQEEL SHAIK',\n",
       " 'Sachin Shinde',\n",
       " 'Tamilselvan G',\n",
       " 'Washim Shaikh',\n",
       " 'Siddhant  Dhanwate',\n",
       " 'Rajkumar  Thakur',\n",
       " 'Javed Alam',\n",
       " 'Sandeep Das',\n",
       " 'Sunil Suthar',\n",
       " 'PRADEEP  D C ',\n",
       " 'Satish  Rahi',\n",
       " 'Vimal Kumar',\n",
       " 'SARAVANAN C',\n",
       " 'Anurag Patel',\n",
       " 'Shaik Sameer',\n",
       " 'Ankit Agrahari',\n",
       " 'BAPI PRADHAN',\n",
       " 'Kamal Bisht',\n",
       " 'syjoe jose',\n",
       " 'Sushil  Gupta',\n",
       " 'Agmal Aslam',\n",
       " 'Raushan Kumar',\n",
       " 'Flipkart Customer',\n",
       " 'Sandesh Kumar M S',\n",
       " 'Shaik Asif',\n",
       " 'Flipkart Customer',\n",
       " 'Sagar Sarkar',\n",
       " 'Vipin  Kumar ',\n",
       " 'Flipkart Customer',\n",
       " 'Anoop Kumar',\n",
       " 'SAYYED FAHIM',\n",
       " 'Arjya Karmakar',\n",
       " 'Arka Roy',\n",
       " 'Vikas Dugar',\n",
       " 'Harish Chougale',\n",
       " 'Ashish Kumar',\n",
       " 'Parveen Kumar',\n",
       " 'Sudheesh',\n",
       " 'Shaik Ramesh babu',\n",
       " 'Flipkart Customer',\n",
       " 'Sudhir  Bansod ',\n",
       " 'Vishnu Sharma',\n",
       " 'Pradip Mandal',\n",
       " 'HARI PRASAD K S',\n",
       " 'sumod p s',\n",
       " 'Utpal  Chetia',\n",
       " 'Asif Khan',\n",
       " 'Sandeep kaushik',\n",
       " 'Karthick M K',\n",
       " 'Shahul Hameed',\n",
       " ' rams reddy',\n",
       " 'RAHUL YADAV',\n",
       " 'pramesh yadav',\n",
       " 'Aman  maurya',\n",
       " 'PrithwiRaj Biswas',\n",
       " 'Vicky Sharma',\n",
       " 'Anirban Jana',\n",
       " 'Yogesh Musale',\n",
       " 'Flipkart Customer',\n",
       " 'Biraja Rout',\n",
       " 'Flipkart Customer',\n",
       " 'sachin choudhary',\n",
       " 'Rahul Gadhave',\n",
       " 'Vivek Kumar',\n",
       " 'Vishwanath Mannade',\n",
       " 'Flipkart Customer',\n",
       " 'Nur  islam',\n",
       " 'vijay chahar',\n",
       " 'Kaml kishore Kashyap',\n",
       " 'Mufiz Mufi',\n",
       " 'Kartik Sarkar',\n",
       " 'MUSKAN  OJHA',\n",
       " 'SOHEL ANSARI',\n",
       " 'Pradeep Singh',\n",
       " 'Abdul Gaffar',\n",
       " 'Hariharan  S',\n",
       " 'Kavi Choudhary',\n",
       " 'Parth Tiwari',\n",
       " 'Sourav Bag',\n",
       " 'Arpit  Ravi',\n",
       " 'Sujith G',\n",
       " 'Zahid Khan',\n",
       " 'Rakesh Rawat',\n",
       " 'Samiran  Purkait ',\n",
       " 'Sushil Mandal',\n",
       " 'Deepak Solanki',\n",
       " 'AK Rana',\n",
       " 'Ariful  Hussain ',\n",
       " 'Deepak Kumar',\n",
       " 'Arunkumar Murugesan',\n",
       " 'Flipkart Customer',\n",
       " 'Tushar Suryavanshi',\n",
       " 'SAKTHIVEL Venkatachalam',\n",
       " 'Harshit Agarwal',\n",
       " 'Master Subhasis Ray',\n",
       " 'sonu kumar',\n",
       " 'Ganesh Patra',\n",
       " 'Ranjan Rao',\n",
       " 'BHARAT MALAKAR',\n",
       " 'Amit Thakur',\n",
       " 'Parmveer Singh',\n",
       " 'Siddharth Solanki',\n",
       " 'Deena Thayalan',\n",
       " 'Vinay Kumar',\n",
       " 'Raju Kander',\n",
       " 'Amit  Mandal',\n",
       " 'palani  murugan ',\n",
       " 'Flipkart Customer',\n",
       " 'Karthikeyan .t',\n",
       " 'Chinna Chinnc']"
      ]
     },
     "execution_count": 6,
     "metadata": {},
     "output_type": "execute_result"
    }
   ],
   "source": [
    "customer_names"
   ]
  },
  {
   "cell_type": "code",
   "execution_count": 7,
   "id": "485ea18f",
   "metadata": {},
   "outputs": [],
   "source": [
    "## comments"
   ]
  },
  {
   "cell_type": "code",
   "execution_count": 8,
   "id": "1b478987",
   "metadata": {},
   "outputs": [],
   "source": [
    "import pandas as pd"
   ]
  },
  {
   "cell_type": "code",
   "execution_count": 9,
   "id": "92a07e52",
   "metadata": {},
   "outputs": [],
   "source": [
    "data = {\n",
    "    'Customer Name': customer_names,\n",
    "    'Review Title': review_title,\n",
    "    'Rating': ratings,\n",
    "    'Comment': comments\n",
    "}\n",
    "\n",
    "\n",
    "df = pd.DataFrame(data)\n",
    "# df['Rating'].fillna(0, inplace=True)\n",
    "\n"
   ]
  },
  {
   "cell_type": "code",
   "execution_count": 10,
   "id": "e2b28acf",
   "metadata": {},
   "outputs": [],
   "source": [
    "# Save the DataFrame to a CSV file\n",
    "df.to_csv('poco-m6-pro-5g.csv', index=False)"
   ]
  },
  {
   "cell_type": "code",
   "execution_count": null,
   "id": "2ae7026e",
   "metadata": {},
   "outputs": [],
   "source": []
  }
 ],
 "metadata": {
  "kernelspec": {
   "display_name": "Python 3 (ipykernel)",
   "language": "python",
   "name": "python3"
  },
  "language_info": {
   "codemirror_mode": {
    "name": "ipython",
    "version": 3
   },
   "file_extension": ".py",
   "mimetype": "text/x-python",
   "name": "python",
   "nbconvert_exporter": "python",
   "pygments_lexer": "ipython3",
   "version": "3.6.8"
  }
 },
 "nbformat": 4,
 "nbformat_minor": 5
}
