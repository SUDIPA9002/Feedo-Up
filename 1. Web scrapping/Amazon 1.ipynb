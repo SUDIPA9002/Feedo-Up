{
 "cells": [
  {
   "cell_type": "markdown",
   "id": "12b49964",
   "metadata": {},
   "source": [
    "### Importing modules"
   ]
  },
  {
   "cell_type": "code",
   "execution_count": 1,
   "id": "707000d3",
   "metadata": {},
   "outputs": [],
   "source": [
    "import requests\n",
    "from bs4 import BeautifulSoup\n",
    "import pandas as pd"
   ]
  },
  {
   "cell_type": "code",
   "execution_count": 2,
   "id": "da048db5",
   "metadata": {},
   "outputs": [],
   "source": [
    "link = 'https://www.amazon.in/OnePlus-Nord-Chromatic-128GB-Storage/product-reviews/B0BY8MCQ9S/ref=cm_cr_dp_d_show_all_btm?ie=UTF8&reviewerType=all_reviews'"
   ]
  },
  {
   "cell_type": "markdown",
   "id": "ebb01383",
   "metadata": {},
   "source": [
    "### Header for request\n"
   ]
  },
  {
   "cell_type": "code",
   "execution_count": 3,
   "id": "5ffbdab3",
   "metadata": {},
   "outputs": [],
   "source": [
    "Header = ({'Useer-Agent':'Mozilla/5.0 (Windows NT 10.0; Win64; x64) AppleWebKit/537.36 (KHTML, like Gecko) Chrome/116.0.0.0 Safari/537.36','Accept-Language':'en-us,en;q=0.5'})\n"
   ]
  },
  {
   "cell_type": "markdown",
   "id": "3545f212",
   "metadata": {},
   "source": [
    "### Getting html and Parsing"
   ]
  },
  {
   "cell_type": "code",
   "execution_count": 4,
   "id": "7fcefe2f",
   "metadata": {},
   "outputs": [],
   "source": [
    "page = requests.get(link,headers=Header)"
   ]
  },
  {
   "cell_type": "code",
   "execution_count": 5,
   "id": "b56afc7e",
   "metadata": {},
   "outputs": [
    {
     "data": {
      "text/plain": [
       "<Response [503]>"
      ]
     },
     "execution_count": 5,
     "metadata": {},
     "output_type": "execute_result"
    }
   ],
   "source": [
    "page"
   ]
  },
  {
   "cell_type": "code",
   "execution_count": 6,
   "id": "770bd9d0",
   "metadata": {},
   "outputs": [],
   "source": [
    "# page.content"
   ]
  },
  {
   "cell_type": "code",
   "execution_count": 7,
   "id": "1cb74256",
   "metadata": {},
   "outputs": [],
   "source": [
    "soup = BeautifulSoup(page.content, 'html.parser')"
   ]
  },
  {
   "cell_type": "code",
   "execution_count": 8,
   "id": "8a20f70b",
   "metadata": {},
   "outputs": [],
   "source": [
    "# print(soup.prettify())"
   ]
  },
  {
   "cell_type": "markdown",
   "id": "eec3cbeb",
   "metadata": {},
   "source": [
    "### Getting names of Customer"
   ]
  },
  {
   "cell_type": "code",
   "execution_count": 9,
   "id": "f29ae2d5",
   "metadata": {},
   "outputs": [],
   "source": [
    "names = soup.find_all('span',class_= 'a-profile-name')"
   ]
  },
  {
   "cell_type": "code",
   "execution_count": 10,
   "id": "261afef0",
   "metadata": {},
   "outputs": [
    {
     "data": {
      "text/plain": [
       "[]"
      ]
     },
     "execution_count": 10,
     "metadata": {},
     "output_type": "execute_result"
    }
   ],
   "source": [
    "names"
   ]
  },
  {
   "cell_type": "code",
   "execution_count": 11,
   "id": "272af227",
   "metadata": {},
   "outputs": [
    {
     "data": {
      "text/plain": [
       "[]"
      ]
     },
     "execution_count": 11,
     "metadata": {},
     "output_type": "execute_result"
    }
   ],
   "source": [
    "customer_name = []\n",
    "for i in range(0,len(names)):\n",
    "    customer_name.append(names[i].get_text())\n",
    "customer_name"
   ]
  },
  {
   "cell_type": "code",
   "execution_count": 12,
   "id": "b39b409c",
   "metadata": {},
   "outputs": [
    {
     "ename": "IndexError",
     "evalue": "pop from empty list",
     "output_type": "error",
     "traceback": [
      "\u001b[1;31m---------------------------------------------------------------------------\u001b[0m",
      "\u001b[1;31mIndexError\u001b[0m                                Traceback (most recent call last)",
      "\u001b[1;32m<ipython-input-12-8243ae4e4d99>\u001b[0m in \u001b[0;36m<module>\u001b[1;34m\u001b[0m\n\u001b[1;32m----> 1\u001b[1;33m \u001b[0mcustomer_name\u001b[0m\u001b[1;33m.\u001b[0m\u001b[0mpop\u001b[0m\u001b[1;33m(\u001b[0m\u001b[1;36m0\u001b[0m\u001b[1;33m)\u001b[0m \u001b[1;31m# removing duplictae names\u001b[0m\u001b[1;33m\u001b[0m\u001b[1;33m\u001b[0m\u001b[0m\n\u001b[0m",
      "\u001b[1;31mIndexError\u001b[0m: pop from empty list"
     ]
    }
   ],
   "source": [
    "customer_name.pop(0) # removing duplictae names"
   ]
  },
  {
   "cell_type": "code",
   "execution_count": null,
   "id": "69ff349d",
   "metadata": {},
   "outputs": [],
   "source": [
    "# customer_name"
   ]
  },
  {
   "cell_type": "markdown",
   "id": "307fe7f8",
   "metadata": {},
   "source": [
    "### Getting Review count and Review about the product"
   ]
  },
  {
   "cell_type": "code",
   "execution_count": null,
   "id": "b1707fe8",
   "metadata": {},
   "outputs": [],
   "source": [
    "title = soup.find_all('a',class_= 'review-title-content')"
   ]
  },
  {
   "cell_type": "code",
   "execution_count": null,
   "id": "69e2acbd",
   "metadata": {},
   "outputs": [],
   "source": [
    "title"
   ]
  },
  {
   "cell_type": "code",
   "execution_count": null,
   "id": "cfa64501",
   "metadata": {},
   "outputs": [],
   "source": [
    "review_title = []\n",
    "for i in range(0,len(title)):\n",
    "    review_title.append(title[i].get_text())\n",
    "cleaned_review_title = [title.split('\\n')[-1] for title in review_title]\n",
    "\n",
    "review_title"
   ]
  },
  {
   "cell_type": "code",
   "execution_count": null,
   "id": "7bd56d2e",
   "metadata": {},
   "outputs": [],
   "source": [
    "cleaned_review_title"
   ]
  },
  {
   "cell_type": "code",
   "execution_count": null,
   "id": "8eded0b1",
   "metadata": {},
   "outputs": [],
   "source": []
  },
  {
   "cell_type": "code",
   "execution_count": null,
   "id": "44cc3cec",
   "metadata": {},
   "outputs": [],
   "source": []
  }
 ],
 "metadata": {
  "kernelspec": {
   "display_name": "Python 3 (ipykernel)",
   "language": "python",
   "name": "python3"
  },
  "language_info": {
   "codemirror_mode": {
    "name": "ipython",
    "version": 3
   },
   "file_extension": ".py",
   "mimetype": "text/x-python",
   "name": "python",
   "nbconvert_exporter": "python",
   "pygments_lexer": "ipython3",
   "version": "3.6.8"
  }
 },
 "nbformat": 4,
 "nbformat_minor": 5
}
